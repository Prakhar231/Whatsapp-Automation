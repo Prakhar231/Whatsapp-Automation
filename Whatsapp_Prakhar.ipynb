{
 "cells": [
  {
   "cell_type": "code",
   "execution_count": 1,
   "metadata": {},
   "outputs": [],
   "source": [
    "from selenium import webdriver \n",
    "from selenium.webdriver.support.ui import WebDriverWait \n",
    "from selenium.webdriver.support import expected_conditions as EC \n",
    "from selenium.webdriver.common.keys import Keys \n",
    "from selenium.webdriver.common.by import By \n",
    "import time "
   ]
  },
  {
   "cell_type": "code",
   "execution_count": 17,
   "metadata": {},
   "outputs": [],
   "source": [
    "driver = webdriver.Chrome(executable_path =\"C:/Users/acer/Downloads/chromedriver.exe\")\n",
    "driver.maximize_window()"
   ]
  },
  {
   "cell_type": "code",
   "execution_count": 18,
   "metadata": {},
   "outputs": [
    {
     "name": "stdout",
     "output_type": "stream",
     "text": [
      "Enter the number of user including countrycode+919170036523\n",
      "Enter your messagehi\n"
     ]
    }
   ],
   "source": [
    "number = int(input('Enter the number of user including countrycode'))\n",
    "msg = input('Enter your message')"
   ]
  },
  {
   "cell_type": "code",
   "execution_count": 19,
   "metadata": {},
   "outputs": [
    {
     "data": {
      "text/plain": [
       "'http://api.whatsapp.com/send?phone=919170036523'"
      ]
     },
     "execution_count": 19,
     "metadata": {},
     "output_type": "execute_result"
    }
   ],
   "source": [
    "s=\"http://api.whatsapp.com/send?phone=\"+str(number)\n",
    "s"
   ]
  },
  {
   "cell_type": "code",
   "execution_count": 20,
   "metadata": {},
   "outputs": [],
   "source": [
    "driver.get(s) \n",
    "time.sleep(5)"
   ]
  },
  {
   "cell_type": "code",
   "execution_count": 21,
   "metadata": {},
   "outputs": [],
   "source": [
    "driver.find_element_by_xpath(\"//*[@id='action-button']\").click()\n",
    "time.sleep(5)"
   ]
  },
  {
   "cell_type": "code",
   "execution_count": 22,
   "metadata": {},
   "outputs": [
    {
     "name": "stdout",
     "output_type": "stream",
     "text": [
      "Number not Present in Whatsapp \n"
     ]
    }
   ],
   "source": [
    "try:\n",
    "    a=driver.find_element_by_xpath(\"//*[@id='fallback_block']/div/div/a\")\n",
    "    a.click()\n",
    "    time.sleep(30)\n",
    "    msg_box=driver.find_element_by_xpath(\"//*[@id='main']/footer/div[1]/div[2]/div/div[2]\")\n",
    "    msg_box.send_keys(msg)\n",
    "    driver.find_element_by_xpath(\"//*[@id='main']/footer/div[1]/div[3]/button\").click()\n",
    "    print(\"Message Successfully sent to \"+str(number))\n",
    "except:\n",
    "    print(\"Number not Present in Whatsapp \")"
   ]
  },
  {
   "cell_type": "code",
   "execution_count": null,
   "metadata": {},
   "outputs": [],
   "source": []
  },
  {
   "cell_type": "code",
   "execution_count": null,
   "metadata": {},
   "outputs": [],
   "source": []
  }
 ],
 "metadata": {
  "kernelspec": {
   "display_name": "Python 3",
   "language": "python",
   "name": "python3"
  },
  "language_info": {
   "codemirror_mode": {
    "name": "ipython",
    "version": 3
   },
   "file_extension": ".py",
   "mimetype": "text/x-python",
   "name": "python",
   "nbconvert_exporter": "python",
   "pygments_lexer": "ipython3",
   "version": "3.8.3"
  }
 },
 "nbformat": 4,
 "nbformat_minor": 4
}
